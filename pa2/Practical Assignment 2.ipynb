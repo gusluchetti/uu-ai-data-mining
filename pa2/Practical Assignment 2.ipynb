{
 "cells": [
  {
   "cell_type": "code",
   "execution_count": 2,
   "id": "ec033314",
   "metadata": {},
   "outputs": [],
   "source": [
    "import sys\n",
    "!{sys.executable} -m pip install sklearn\n",
    "\n",
    "import numpy as np\n",
    "import matplotlib.pyplot as plt\n",
    "import seaborn as sns\n",
    "\n",
    "from sklearn.datasets import load_files\n",
    "from sklearn.model_selection import train_test_split\n",
    "from sklearn.model_selection import cross_val_score\n",
    "\n",
    "from sklearn.feature_extraction import text\n",
    "from sklearn.feature_extraction.text import CountVectorizer\n",
    "from sklearn.feature_extraction.text import TfidfVectorizer\n",
    "\n",
    "from sklearn.naive_bayes import MultinomialNB\n",
    "from sklearn.linear_model import LogisticRegression\n",
    "from sklearn.tree import DecisionTreeClassifier\n",
    "from sklearn.ensemble import RandomForestClassifier"
   ]
  },
  {
   "cell_type": "code",
   "execution_count": 3,
   "id": "e1c89d4a",
   "metadata": {},
   "outputs": [
    {
     "name": "stdout",
     "output_type": "stream",
     "text": [
      "['00' '000' '00a' ... 'zest' 'zone' 'zoo']\n",
      "===== Target classes =====\n",
      "['fake', 'genuine']\n"
     ]
    }
   ],
   "source": [
    "# Load data from .txt files and make the train-test splits.\n",
    "# Since we're working with text data, we need to vectorize the documents / turn each document\n",
    "# into a point vector in a n-dimentions space. \n",
    "# Moreover, rather than simply using the word counts, we want to use the Term Frequency as feature value.\n",
    "\n",
    "# dataset = load_files('./cleaned_op_spam', encoding='latin-1')\n",
    "dataset = load_files('./genuine_vs_fake', encoding='utf-8')\n",
    "x_train, x_test, y_train, y_test = train_test_split(dataset.data, dataset.target, test_size=0.2)\n",
    "\n",
    "custom_stop_words = text.ENGLISH_STOP_WORDS.union([\"\\n\"])\n",
    "vectorizer = TfidfVectorizer(stop_words=custom_stop_words, min_df=1)\n",
    "x_train_vec = vectorizer.fit_transform(x_train)\n",
    "x_test_vec = vectorizer.transform(x_test)\n",
    "x_train_vec\n",
    "# print(x_trainvec.toarray())\n",
    "print(vectorizer.get_feature_names_out())\n",
    "\n",
    "print('===== Target classes =====')\n",
    "print(dataset.target_names)\n",
    "# print(dataset)"
   ]
  },
  {
   "cell_type": "code",
   "execution_count": 4,
   "id": "5afb6588",
   "metadata": {},
   "outputs": [
    {
     "name": "stdout",
     "output_type": "stream",
     "text": [
      "[6771, 3419, 2466, 1904, 1576, 1346, 1206, 1081, 984, 895, 817, 760, 696, 646, 615, 591, 555, 523, 489, 464]\n"
     ]
    }
   ],
   "source": [
    "length_features = []\n",
    "for poop in range(1,21):\n",
    "    vectorizer = TfidfVectorizer(stop_words=custom_stop_words, min_df=poop, ngram_range=(1, 1))\n",
    "    all = vectorizer.fit_transform(dataset.data)\n",
    "    length = len(vectorizer.get_feature_names_out())\n",
    "    length_features.append(length)\n",
    "print(length_features)"
   ]
  },
  {
   "cell_type": "code",
   "execution_count": 5,
   "id": "507fb8a9",
   "metadata": {},
   "outputs": [
    {
     "ename": "NameError",
     "evalue": "name 'range_boy' is not defined",
     "output_type": "error",
     "traceback": [
      "\u001b[0;31m---------------------------------------------------------------------------\u001b[0m",
      "\u001b[0;31mNameError\u001b[0m                                 Traceback (most recent call last)",
      "Cell \u001b[0;32mIn [5], line 1\u001b[0m\n\u001b[0;32m----> 1\u001b[0m ax \u001b[38;5;241m=\u001b[39m sns\u001b[38;5;241m.\u001b[39mlineplot(y\u001b[38;5;241m=\u001b[39mlength_features, x\u001b[38;5;241m=\u001b[39m\u001b[43mrange_boy\u001b[49m)\n\u001b[1;32m      2\u001b[0m plt\u001b[38;5;241m.\u001b[39mxlabel(\u001b[38;5;124m\"\u001b[39m\u001b[38;5;124mFeature Inclusion (Unigram, Minimum Occurrence)\u001b[39m\u001b[38;5;124m\"\u001b[39m)\n\u001b[1;32m      3\u001b[0m plt\u001b[38;5;241m.\u001b[39mylabel(\u001b[38;5;124m\"\u001b[39m\u001b[38;5;124mNumber of features\u001b[39m\u001b[38;5;124m\"\u001b[39m)\n",
      "\u001b[0;31mNameError\u001b[0m: name 'range_boy' is not defined"
     ]
    }
   ],
   "source": [
    "ax = sns.lineplot(y=length_features, x=range(1,21))\n",
    "plt.xlabel(\"Feature Inclusion (Unigram, Minimum Occurrence)\")\n",
    "plt.ylabel(\"Number of features\")\n",
    "plt.title(\"Removal of sparse terms\")\n",
    "plt.show()"
   ]
  },
  {
   "cell_type": "code",
   "execution_count": null,
   "id": "bef30e13",
   "metadata": {},
   "outputs": [],
   "source": [
    "length_features = []\n",
    "for poop in range(1,21):\n",
    "    vectorizer = TfidfVectorizer(stop_words=custom_stop_words, min_df=poop, ngram_range=(1,2))\n",
    "    all = vectorizer.fit_transform(dataset.data)\n",
    "    length = len(vectorizer.get_feature_names_out())\n",
    "    length_features.append(length)\n",
    "print(length_features)"
   ]
  },
  {
   "cell_type": "code",
   "execution_count": null,
   "id": "26cf4b66",
   "metadata": {},
   "outputs": [],
   "source": [
    "ax = sns.lineplot(y=length_features, x=range(1,21))\n",
    "plt.xlabel(\"Feature Inclusion (Unigram AND Bigram, Minimum Occurrence)\")\n",
    "plt.ylabel(\"Number of features\")\n",
    "plt.title(\"Removal of sparse terms\")\n",
    "plt.show()"
   ]
  },
  {
   "cell_type": "code",
   "execution_count": null,
   "id": "cd3ea5da",
   "metadata": {},
   "outputs": [],
   "source": [
    "dataset"
   ]
  },
  {
   "cell_type": "code",
   "execution_count": null,
   "id": "3c43a881",
   "metadata": {},
   "outputs": [],
   "source": [
    "# word frequency for ALL corpuses\n",
    "import pandas as pd\n",
    "c_vectorizer = CountVectorizer(stop_words=custom_stop_words)\n",
    "all_words = c_vectorizer.fit_transform(dataset.data)\n",
    "counts = pd.DataFrame(all_words.toarray(), columns=c_vectorizer.get_feature_names_out())\n",
    "sorted_counts = counts.sum().sort_values(ascending=False)\n",
    "print(sorted_counts)"
   ]
  },
  {
   "cell_type": "code",
   "execution_count": null,
   "id": "063ca6e5",
   "metadata": {},
   "outputs": [],
   "source": [
    "import seaborn as sns\n",
    "limit = 16\n",
    "custom_params = {'figure.figsize':(12,7)}\n",
    "sns.set_theme(style=\"whitegrid\", rc=custom_params)\n",
    "ax = sns.barplot(y=sorted_counts.index[:limit], x=sorted_counts.values[:limit])\n",
    "ax.set(xlabel='Word Frequency', ylabel='Words')\n",
    "plt.show()"
   ]
  },
  {
   "cell_type": "code",
   "execution_count": null,
   "id": "97d9dfbe",
   "metadata": {},
   "outputs": [],
   "source": [
    "# Fit and test the models\n",
    "mnb = MultinomialNB()\n",
    "preds_mnb = mnb.fit(x_train_vec, y_train).predict(x_test_vec)\n",
    "print(\"MNB correct predictions %d out of %d\" % ((y_test == preds_mnb).sum(), x_test_vec.shape[0]))\n",
    "\n",
    "loreg1 = LogisticRegression(solver='lbfgs')\n",
    "preds_logreg1 = loreg1.fit(x_train_vec, y_train).predict(x_test_vec)\n",
    "print(\"LReg-LBFGS correct predictions %d out of %d\" % ((y_test == preds_logreg1).sum(), x_test_vec.shape[0]))\n",
    "\n",
    "logreg2 = LogisticRegression(solver='liblinear')\n",
    "preds_logreg2 = logreg2.fit(x_train_vec, y_train).predict(x_test_vec)\n",
    "print(f\"LReg-Liblinear correct predictions {(y_test == preds_logreg2).sum()} out of {x_test_vec.shape[0]}\")\n",
    "\n",
    "logreg3 = LogisticRegression(solver='saga')\n",
    "preds_logreg3 = logreg3.fit(x_train_vec, y_train).predict(x_test_vec)\n",
    "print(f\"LReg-Saga correct predictions {(y_test == preds_logreg3).sum()} out of {x_test_vec.shape[0]}\")\n",
    "\n",
    "dectree = DecisionTreeClassifier()\n",
    "preds_dectree = dectree.fit(x_train_vec, y_train).predict(x_test_vec)\n",
    "print(f\"Decision Tree correct predictions {(y_test == preds_dectree).sum()} out of {x_test_vec.shape[0]}\")\n",
    "\n",
    "rforest = RandomForestClassifier(n_estimators=10, max_depth=None, min_samples_split=2, random_state=0)\n",
    "preds_rforest = rforest.fit(x_train_vec, y_train).predict(x_test_vec)\n",
    "print(f\"Random Forest correct predictions {(y_test == preds_rforest).sum()} out of {len(y_test)}\")"
   ]
  },
  {
   "cell_type": "code",
   "execution_count": null,
   "id": "819731e0",
   "metadata": {},
   "outputs": [],
   "source": [
    "# Attempt to optimize the Decision Tree using Cost-Complexity Pruning technique\n",
    "path = dectree.cost_complexity_pruning_path(x_train_vec, y_train)\n",
    "ccp_alphas, impurities = path.ccp_alphas, path.impurities\n",
    "# print(ccp_alphas)\n",
    "# print(impurities)\n",
    "\n",
    "dtrees = []\n",
    "for ccp_alpha in ccp_alphas:\n",
    "    dtr = DecisionTreeClassifier(random_state=0, ccp_alpha=ccp_alpha)\n",
    "    dtr.fit(x_train_vec, y_train)\n",
    "    dtrees.append(dtr)\n",
    "# print(f\"Number of nodes in the last tree is: {dectrees[-1].tree_.node_count} with ccp_alpha: {ccp_alphas[-1]}\")\n",
    "\n",
    "train_scores = [dtr.score(x_train_vec, y_train) for dtr in dtrees]\n",
    "test_scores = [dtr.score(x_test_vec, y_test) for dtr in dtrees]\n",
    "\n",
    "fig, ax = plt.subplots()\n",
    "fig.set_size_inches(10.5, 7.5)\n",
    "fig.set_dpi(100)\n",
    "ax.set_xlabel(\"alpha\")\n",
    "ax.set_ylabel(\"accuracy\")\n",
    "ax.set_title(\"Accuracy vs alpha for training and testing sets\")\n",
    "ax.plot(ccp_alphas, train_scores, marker=\"o\", label=\"train\", drawstyle=\"steps-post\")\n",
    "ax.plot(ccp_alphas, test_scores, marker=\"o\", label=\"test\", drawstyle=\"steps-post\")\n",
    "ax.legend()\n",
    "plt.show()\n",
    "\n",
    "# CONCLUSION: Accuracy optimizes at alpha 0.01. However, the score remains at ±52% so there is no noticeable \n",
    "# improvement achieved by the cost-complexity pruning, compared to the simple un-pruned tree."
   ]
  },
  {
   "cell_type": "code",
   "execution_count": null,
   "id": "8237801e",
   "metadata": {
    "scrolled": true
   },
   "outputs": [],
   "source": [
    "# fake vs genuine - all probabilities are sorted\n",
    "mnb_prob = mnb.feature_log_prob_[:,:]\n",
    "# print(mnb_prob, mnb_prob.argsort()[::-1])\n",
    "\n",
    "loreg_coef = loreg1.coef_\n",
    "#print(loreg_coef, loreg_coef.argsort()[::-1])\n",
    "\n",
    "# np.set_printoptions(threshold=sys.maxsize)\n",
    "print(\"All Feature Words:\\n\", vectorizer.get_feature_names_out())\n",
    "print(pd.DataFrame(vectorizer.get_feature_names_out()).describe())\n",
    "range = 25\n",
    "\n",
    "# fake_mnb = mnb_prob[0, :].argsort()[::-1]\n",
    "# print(\"\\nImportant Words - Fake MNB:\\n\", np.take(vectorizer.get_feature_names_out(), fake_mnb[:range]))\n",
    "loreg = loreg_coef[0, :].argsort()[::-1]\n",
    "print(\"\\nImportant Words - Logistic Regression:\\n\", np.take(vectorizer.get_feature_names_out(), loreg[:range]))\n",
    "\n",
    "# true_mnb = mnb_prob[1, :].argsort()[::-1]\n",
    "# true_loreg = loreg_coef[1, :].argsort()[::-1]\n",
    "# print(\"\\nImportant Words - True MNB:\\n\", np.take(vectorizer.get_feature_names_out(), true_mnb[:range]))\n",
    "# print(\"\\nImportant Words - True LoReg:\\n\", np.take(vectorizer.get_feature_names_out(), true_loreg[:range]))"
   ]
  },
  {
   "cell_type": "code",
   "execution_count": null,
   "id": "87087938",
   "metadata": {},
   "outputs": [],
   "source": [
    "sorted_idx = rforest.feature_importances_.argsort()[::-1]\n",
    "f_words = np.take(vectorizer.get_feature_names_out(), sorted_idx)\n",
    "print(\"Sorted Forest\", sorted_idx)\n",
    "print(f_words)\n",
    "ax = sns.barplot(y=f_words[:20], x=rforest.feature_importances_[sorted_idx][:20])\n",
    "ax.set_title(\"Ah!\")\n",
    "plt.show()"
   ]
  },
  {
   "cell_type": "code",
   "execution_count": null,
   "id": "d9916b41",
   "metadata": {},
   "outputs": [],
   "source": [
    "from sklearn.inspection import permutation_importance\n",
    "result = permutation_importance(\n",
    "    dectree, x_test_vec.toarray(), y_test, n_repeats=10, random_state=0, n_jobs=2\n",
    ")\n",
    "fig, ax = plt.subplots()\n",
    "forest_importances.plot.bar(yerr=result.importances_std, ax=ax)\n",
    "ax.set_title(\"Feature importances using permutation on full model\")\n",
    "ax.set_ylabel(\"Mean accuracy decrease\")\n",
    "fig.tight_layout()\n",
    "plt.show()"
   ]
  },
  {
   "cell_type": "code",
   "execution_count": null,
   "id": "5d9529ad",
   "metadata": {},
   "outputs": [],
   "source": [
    "from sklearn import tree\n",
    "# plot tree\n",
    "plt.figure(figsize=(30,16))  # set plot size (denoted in inches)\n",
    "tree.plot_tree(dectree, fontsize=6)\n",
    "plt.show()"
   ]
  },
  {
   "cell_type": "code",
   "execution_count": null,
   "id": "0aa9bf4d",
   "metadata": {},
   "outputs": [],
   "source": [
    "def run_cross_validation(nfolds, ngram=1):\n",
    "    tf_vectorizer = TfidfVectorizer(stop_words=custom_stop_words, ngram_range=(ngram, ngram))\n",
    "    x_train_vec = tf_vectorizer.fit_transform(dataset.data)\n",
    "    y_train_vec = dataset.target\n",
    "\n",
    "    mnbayes = MultinomialNB()\n",
    "    logreg = LogisticRegression(solver='lbfgs')\n",
    "    logreg2 = LogisticRegression(solver='liblinear')\n",
    "    logreg3 = LogisticRegression(solver='saga')\n",
    "    dtree = DecisionTreeClassifier()\n",
    "    ranForest = RandomForestClassifier(n_estimators=10, max_depth=None, min_samples_split=2, random_state=0)\n",
    "    \n",
    "    # Naive Bayes\n",
    "    bayes_acc = cross_val_score(mnbayes, x_train_vec, y_train_vec, cv=nfolds, scoring='accuracy', n_jobs=-1).mean()\n",
    "    bayes_prec = 0 #cross_val_score(mnbayes, x_train_vec, y_train_vec, cv=nfolds, scoring='precision').mean()\n",
    "    bayes_rec = 0 #cross_val_score(mnbayes, x_train_vec, y_train_vec, cv=nfolds, scoring='recall').mean()\n",
    "    \n",
    "    #Logistic regression\n",
    "    lg_acc = cross_val_score(logreg, x_train_vec, y_train_vec, cv=nfolds, scoring='accuracy', n_jobs=-1).mean()\n",
    "    lg_prec = 0 #cross_val_score(logreg, x_train_vec, y_train_vec, cv=nfolds, scoring='precision').mean()\n",
    "    lg_rec = 0 #cross_val_score(logreg, x_train_vec, y_train_vec, cv=nfolds, scoring='recall').mean()\n",
    "    \n",
    "    lg2_acc = cross_val_score(logreg2, x_train_vec, y_train_vec, cv=nfolds, scoring='accuracy', n_jobs=-1).mean()\n",
    "    lg2_prec = 0 #cross_val_score(logreg2, x_train_vec, y_train_vec, cv=nfolds, scoring='precision').mean()\n",
    "    lg2_rec = 0 #cross_val_score(logreg2, x_train_vec, y_train_vec, cv=nfolds, scoring='recall').mean()\n",
    "    \n",
    "    lg3_acc = cross_val_score(logreg3, x_train_vec, y_train_vec, cv=nfolds, scoring='accuracy', n_jobs=-1).mean()\n",
    "    lg3_prec = 0 #cross_val_score(logreg3, x_train_vec, y_train_vec, cv=nfolds, scoring='precision').mean()\n",
    "    lg3_rec = 0 #cross_val_score(logreg3, x_train_vec, y_train_vec, cv=nfolds, scoring='recall').mean()\n",
    "            \n",
    "    dt_acc = cross_val_score(dtree, x_train_vec, y_train_vec, cv=nfolds, scoring='accuracy', n_jobs=-1).mean()\n",
    "    dt_prec = 0 #cross_val_score(dtree, x_train_vec, y_train_vec, cv=nfolds, scoring='precision').mean()\n",
    "    dt_rec = 0 #cross_val_score(dtree, x_train_vec, y_train_vec, cv=nfolds, scoring='recall').mean()\n",
    "    \n",
    "    ranForest_acc = cross_val_score(ranForest, x_train_vec, y_train_vec, cv=nfolds, scoring='accuracy', n_jobs=-1).mean()\n",
    "    ranForest_prec = 0 #cross_val_score(ranForest, x_train_vec, y_train_vec, cv=nfolds, scoring='precision').mean()\n",
    "    ranForest_rec = 0 #cross_val_score(ranForest, x_train_vec, y_train_vec, cv=nfolds, scoring='recall').mean()\n",
    "    \n",
    "    print(f'         Model                         | Accuracy | Precision | Recall')\n",
    "    print(f'Naive Bayes                            | {round(bayes_acc, 3)}    | {round(bayes_prec, 3)}    | {round(bayes_rec, 3)}')\n",
    "    print(f'Logistic Regression - LBFGS solver     | {round(lg_acc, 3)}    | {round(lg_prec, 3)}    | {round(lg_rec, 3)}')\n",
    "    print(f'Logistic Regression - Liblinear solver | {round(lg2_acc, 3)}    | {round(lg2_prec, 3)}    | {round(lg2_rec, 3)}')\n",
    "    print(f'Logistic Regression - Saga solver      | {round(lg3_acc, 3)}    | {round(lg3_prec, 3)}    | {round(lg3_rec, 3)}')\n",
    "    print(f'Decision Tree                          | {round(dt_acc, 3)}    | {round(dt_prec, 3)}    | {round(dt_rec, 3)}')\n",
    "    print(f'Random Forest                          | {round(ranForest_acc, 3)}    | {round(ranForest_prec, 3)}    | {round(ranForest_rec, 3)}')"
   ]
  },
  {
   "cell_type": "code",
   "execution_count": null,
   "id": "112000b4",
   "metadata": {},
   "outputs": [],
   "source": [
    "print('===== UNIGRAM, 5 folds cv =====')\n",
    "run_cross_validation(nfolds=5, ngram=1)\n",
    "print('===== UNIGRAM, 10 folds cv =====')\n",
    "run_cross_validation(nfolds=10, ngram=1)\n",
    "print('\\n===== BIGRAM, 5 folds cv =====')\n",
    "run_cross_validation(nfolds=5, ngram=2)\n",
    "print('\\n===== BIGRAM, 10 folds cv =====')\n",
    "run_cross_validation(nfolds=10, ngram=2)"
   ]
  }
 ],
 "metadata": {
  "kernelspec": {
   "display_name": "Python 3 (ipykernel)",
   "language": "python",
   "name": "python3"
  },
  "language_info": {
   "codemirror_mode": {
    "name": "ipython",
    "version": 3
   },
   "file_extension": ".py",
   "mimetype": "text/x-python",
   "name": "python",
   "nbconvert_exporter": "python",
   "pygments_lexer": "ipython3",
   "version": "3.10.7"
  }
 },
 "nbformat": 4,
 "nbformat_minor": 5
}
