{
 "cells": [
  {
   "cell_type": "code",
   "execution_count": 3,
   "id": "cc888241",
   "metadata": {},
   "outputs": [
    {
     "name": "stdout",
     "output_type": "stream",
     "text": [
      "Collecting sklearn\n",
      "  Using cached sklearn-0.0.tar.gz (1.1 kB)\n",
      "Requirement already satisfied: scikit-learn in /Users/aristophanesalbertusalvin/opt/anaconda3/lib/python3.9/site-packages (from sklearn) (1.0.2)\n",
      "Requirement already satisfied: numpy>=1.14.6 in /Users/aristophanesalbertusalvin/opt/anaconda3/lib/python3.9/site-packages (from scikit-learn->sklearn) (1.21.5)\n",
      "Requirement already satisfied: joblib>=0.11 in /Users/aristophanesalbertusalvin/opt/anaconda3/lib/python3.9/site-packages (from scikit-learn->sklearn) (1.1.0)\n",
      "Requirement already satisfied: threadpoolctl>=2.0.0 in /Users/aristophanesalbertusalvin/opt/anaconda3/lib/python3.9/site-packages (from scikit-learn->sklearn) (2.2.0)\n",
      "Requirement already satisfied: scipy>=1.1.0 in /Users/aristophanesalbertusalvin/opt/anaconda3/lib/python3.9/site-packages (from scikit-learn->sklearn) (1.7.3)\n",
      "Building wheels for collected packages: sklearn\n",
      "  Building wheel for sklearn (setup.py) ... \u001b[?25ldone\n",
      "\u001b[?25h  Created wheel for sklearn: filename=sklearn-0.0-py2.py3-none-any.whl size=1310 sha256=0cac82414c4e4a7c3a1b0ece85c109c3fa1d582c1ce442fde1e8a6b8d05bd8d7\n",
      "  Stored in directory: /Users/aristophanesalbertusalvin/Library/Caches/pip/wheels/e4/7b/98/b6466d71b8d738a0c547008b9eb39bf8676d1ff6ca4b22af1c\n",
      "Successfully built sklearn\n",
      "Installing collected packages: sklearn\n",
      "Successfully installed sklearn-0.0\n"
     ]
    }
   ],
   "source": [
    "import sys\n",
    "!{sys.executable} -m pip install sklearn"
   ]
  },
  {
   "cell_type": "code",
   "execution_count": 1,
   "id": "ec033314",
   "metadata": {},
   "outputs": [],
   "source": [
    "import numpy as np\n",
    "from sklearn.datasets import load_files\n",
    "from sklearn.model_selection import train_test_split\n",
    "from sklearn.model_selection import cross_val_score\n",
    "\n",
    "from sklearn.feature_extraction.text import CountVectorizer\n",
    "from sklearn.feature_extraction.text import TfidfVectorizer\n",
    "\n",
    "from sklearn.naive_bayes import MultinomialNB\n",
    "from sklearn.linear_model import LogisticRegression\n",
    "from sklearn.tree import DecisionTreeClassifier\n",
    "from sklearn.ensemble import RandomForestClassifier"
   ]
  },
  {
   "cell_type": "code",
   "execution_count": 2,
   "id": "e1c89d4a",
   "metadata": {},
   "outputs": [
    {
     "name": "stdout",
     "output_type": "stream",
     "text": [
      "['negative deceptive', 'negative truthful', 'positive deceptive', 'positive truthful']\n"
     ]
    }
   ],
   "source": [
    "# Loading the data and making the train-test splits.\n",
    "\n",
    "review_files = load_files('./cleaned_op_spam', encoding='latin-1')\n",
    "x_train, x_test, y_train, y_test = train_test_split(review_files.data, review_files.target, test_size=0.2)\n",
    "\n",
    "print(review_files.target_names)\n",
    "# print(review_files)"
   ]
  },
  {
   "cell_type": "code",
   "execution_count": 3,
   "id": "593c8208",
   "metadata": {},
   "outputs": [],
   "source": [
    "# Since we're working with text data, we need to vectorize the documents / turn each document\n",
    "# into a point vector in a n-dimentions space. \n",
    "# Moreover, rather than simply using the word counts, we want to use the Term Frequency as feature value.\n",
    "\n",
    "vectorizer = TfidfVectorizer(stop_words='english')\n",
    "x_trainvec = vectorizer.fit_transform(x_train)\n",
    "x_testvec = vectorizer.transform(x_test)\n",
    "# print(x_trainvec.toarray())\n",
    "# print(vectorizer.get_feature_names_out())"
   ]
  },
  {
   "cell_type": "code",
   "execution_count": 7,
   "id": "97d9dfbe",
   "metadata": {},
   "outputs": [
    {
     "name": "stdout",
     "output_type": "stream",
     "text": [
      "MNB correct predictions 250 out of 320\n",
      "LReg correct predictions 248 out of 320\n"
     ]
    }
   ],
   "source": [
    "mnb = MultinomialNB()\n",
    "y_preds1 = mnb.fit(x_trainvec, y_train).predict(x_testvec)\n",
    "print(\"MNB correct predictions %d out of %d\" % ((y_test == y_preds1).sum(), x_testvec.shape[0]))\n",
    "\n",
    "loreg = LogisticRegression(solver='lbfgs')\n",
    "y_preds2 = loreg.fit(x_trainvec, y_train).predict(x_testvec)\n",
    "print(\"LReg correct predictions %d out of %d\" % ((y_test == y_preds2).sum(), x_testvec.shape[0]))\n",
    "\n",
    "# print('Length predictions', len(y_preds))\n",
    "# print('Length y_test', len(y_test))"
   ]
  },
  {
   "cell_type": "code",
   "execution_count": 8,
   "id": "819731e0",
   "metadata": {},
   "outputs": [
    {
     "name": "stdout",
     "output_type": "stream",
     "text": [
      "Correct predictions 250 out of 320\n"
     ]
    }
   ],
   "source": [
    "correct_pred = 0\n",
    "for i in range(len(y_test)):\n",
    "    if y_preds1[i] == y_test[i]:\n",
    "        correct_pred += 1\n",
    "\n",
    "print(f\"Correct predictions {correct_pred} out of {len(y_test)}\")"
   ]
  },
  {
   "cell_type": "code",
   "execution_count": 9,
   "id": "8237801e",
   "metadata": {},
   "outputs": [
    {
     "name": "stdout",
     "output_type": "stream",
     "text": [
      "['room' 'hotel' 'chicago' 'stay' 'service' 'like' 'did' 'desk'\n",
      " 'experience' 'night']\n",
      "[6295 3741 1463 7086 6559 4372 2246 2209 2833 4989]\n",
      "['room' 'hotel' 'night' 'stay' 'bed' 'did' 'desk' 'service' 'called'\n",
      " 'told']\n",
      "[6295 3741 4989 7086  913 2246 2209 6559 1267 7588]\n",
      "['hotel' 'chicago' 'stay' 'great' 'room' 'staff' 'rooms' 'service'\n",
      " 'definitely' 'comfortable']\n",
      "[3741 1463 7086 3424 6295 7035 6298 6559 2132 1636]\n",
      "['great' 'hotel' 'room' 'location' 'staff' 'stay' 'chicago' 'stayed'\n",
      " 'clean' 'comfortable']\n",
      "[3424 3741 6295 4437 7035 7086 1463 7087 1534 1636]\n"
     ]
    }
   ],
   "source": [
    "neg_dec_prob_sorted = mnb.feature_log_prob_[0, :].argsort()[::-1]\n",
    "neg_tru_prob_sorted = mnb.feature_log_prob_[1, :].argsort()[::-1]\n",
    "pos_dec_prob_sorted = mnb.feature_log_prob_[2, :].argsort()[::-1]\n",
    "pos_tru_prob_sorted = mnb.feature_log_prob_[3, :].argsort()[::-1]\n",
    "\n",
    "print(np.take(vectorizer.get_feature_names_out(), neg_dec_prob_sorted[:10]))\n",
    "print(neg_dec_prob_sorted[:10])\n",
    "print(np.take(vectorizer.get_feature_names_out(), neg_tru_prob_sorted[:10]))\n",
    "print(neg_tru_prob_sorted[:10])\n",
    "print(np.take(vectorizer.get_feature_names_out(), pos_dec_prob_sorted[:10]))\n",
    "print(pos_dec_prob_sorted[:10])\n",
    "print(np.take(vectorizer.get_feature_names_out(), pos_tru_prob_sorted[:10]))\n",
    "print(pos_tru_prob_sorted[:10])"
   ]
  },
  {
   "cell_type": "code",
   "execution_count": 10,
   "id": "0aa9bf4d",
   "metadata": {},
   "outputs": [],
   "source": [
    "def run_cross_validation(nfolds, ngram=1):\n",
    "    tf_vectorizer = TfidfVectorizer(stop_words='english', ngram_range=(ngram, ngram))\n",
    "    x_train_vec = tf_vectorizer.fit_transform(review_files.data)\n",
    "    y_train_vec = review_files.target\n",
    "\n",
    "    mnbayes = MultinomialNB()\n",
    "    logreg = LogisticRegression(solver='lbfgs')\n",
    "    logreg2 = LogisticRegression(solver='liblinear')\n",
    "    logreg3 = LogisticRegression(solver='saga')\n",
    "    dtree = DecisionTreeClassifier()\n",
    "    ranForest = RandomForestClassifier(n_estimators=10, max_depth=None, min_samples_split=2, random_state=0)\n",
    "    \n",
    "    # Naive Bayes\n",
    "    bayes_acc = cross_val_score(mnbayes, x_train_vec, y_train_vec, cv=nfolds, scoring='accuracy').mean()\n",
    "    bayes_prec = 0 #cross_val_score(mnbayes, x_train_vec, y_train_vec, cv=nfolds, scoring='precision').mean()\n",
    "    bayes_rec = 0 #cross_val_score(mnbayes, x_train_vec, y_train_vec, cv=nfolds, scoring='recall').mean()\n",
    "    \n",
    "    #Logistic regression\n",
    "    lg_acc = cross_val_score(logreg, x_train_vec, y_train_vec, cv=nfolds, scoring='accuracy').mean()\n",
    "    lg_prec = 0 #cross_val_score(logreg, x_train_vec, y_train_vec, cv=nfolds, scoring='precision').mean()\n",
    "    lg_rec = 0 #cross_val_score(logreg, x_train_vec, y_train_vec, cv=nfolds, scoring='recall').mean()\n",
    "    \n",
    "    lg2_acc = cross_val_score(logreg2, x_train_vec, y_train_vec, cv=nfolds, scoring='accuracy').mean()\n",
    "    lg2_prec = 0 #cross_val_score(logreg2, x_train_vec, y_train_vec, cv=nfolds, scoring='precision').mean()\n",
    "    lg2_rec = 0 #cross_val_score(logreg2, x_train_vec, y_train_vec, cv=nfolds, scoring='recall').mean()\n",
    "    \n",
    "    lg3_acc = cross_val_score(logreg3, x_train_vec, y_train_vec, cv=nfolds, scoring='accuracy').mean()\n",
    "    lg3_prec = 0 #cross_val_score(logreg3, x_train_vec, y_train_vec, cv=nfolds, scoring='precision').mean()\n",
    "    lg3_rec = 0 #cross_val_score(logreg3, x_train_vec, y_train_vec, cv=nfolds, scoring='recall').mean()\n",
    "            \n",
    "    dt_acc = cross_val_score(dtree, x_train_vec, y_train_vec, cv=nfolds, scoring='accuracy').mean()\n",
    "    dt_prec = 0 #cross_val_score(dtree, x_train_vec, y_train_vec, cv=nfolds, scoring='precision').mean()\n",
    "    dt_rec = 0 #cross_val_score(dtree, x_train_vec, y_train_vec, cv=nfolds, scoring='recall').mean()\n",
    "    \n",
    "    ranForest_acc = cross_val_score(ranForest, x_train_vec, y_train_vec, cv=nfolds, scoring='accuracy').mean()\n",
    "    ranForest_prec = 0 #cross_val_score(ranForest, x_train_vec, y_train_vec, cv=nfolds, scoring='precision').mean()\n",
    "    ranForest_rec = 0 #cross_val_score(ranForest, x_train_vec, y_train_vec, cv=nfolds, scoring='recall').mean()\n",
    "    \n",
    "    print(f'         Model                         | Accuracy | Precision | Recall')\n",
    "    print(f'Naive Bayes                            | {round(bayes_acc, 3)}    | {round(bayes_prec, 3)}    | {round(bayes_rec, 3)}')\n",
    "    print(f'Logistic Regression - LBFGS solver     | {round(lg_acc, 3)}    | {round(lg_prec, 3)}    | {round(lg_rec, 3)}')\n",
    "    print(f'Logistic Regression - Liblinear solver | {round(lg2_acc, 3)}    | {round(lg2_prec, 3)}    | {round(lg2_rec, 3)}')\n",
    "    print(f'Logistic Regression - Saga solver      | {round(lg3_acc, 3)}    | {round(lg3_prec, 3)}    | {round(lg3_rec, 3)}')\n",
    "    print(f'Decision Tree                          | {round(dt_acc, 3)}    | {round(dt_prec, 3)}    | {round(dt_rec, 3)}')\n",
    "    print(f'Random Forest                          | {round(ranForest_acc, 3)}    | {round(ranForest_prec, 3)}    | {round(ranForest_rec, 3)}')"
   ]
  },
  {
   "cell_type": "code",
   "execution_count": null,
   "id": "112000b4",
   "metadata": {},
   "outputs": [
    {
     "name": "stdout",
     "output_type": "stream",
     "text": [
      "===== UNIGRAM, 5 folds cv =====\n",
      "         Model                         | Accuracy | Precision | Recall\n",
      "Naive Bayes                            | 0.791    | 0    | 0\n",
      "Logistic Regression - LBFGS solver     | 0.817    | 0    | 0\n",
      "Logistic Regression - Liblinear solver | 0.817    | 0    | 0\n",
      "Logistic Regression - Saga solver      | 0.817    | 0    | 0\n",
      "Decision Tree                          | 0.513    | 0    | 0\n",
      "Random Forest                          | 0.593    | 0    | 0\n",
      "===== UNIGRAM, 10 folds cv =====\n"
     ]
    }
   ],
   "source": [
    "print('===== UNIGRAM, 5 folds cv =====')\n",
    "run_cross_validation(nfolds=5, ngram=1)\n",
    "\n",
    "print('===== UNIGRAM, 10 folds cv =====')\n",
    "run_cross_validation(nfolds=10, ngram=1)\n",
    "\n",
    "print('\\n===== BIGRAM, 5 folds cv =====')\n",
    "run_cross_validation(nfolds=5, ngram=2)\n",
    "\n",
    "print('\\n===== BIGRAM, 10 folds cv =====')\n",
    "run_cross_validation(nfolds=10, ngram=2)"
   ]
  },
  {
   "cell_type": "code",
   "execution_count": null,
   "id": "c28caf32",
   "metadata": {},
   "outputs": [],
   "source": []
  }
 ],
 "metadata": {
  "kernelspec": {
   "display_name": "Python 3 (ipykernel)",
   "language": "python",
   "name": "python3"
  },
  "language_info": {
   "codemirror_mode": {
    "name": "ipython",
    "version": 3
   },
   "file_extension": ".py",
   "mimetype": "text/x-python",
   "name": "python",
   "nbconvert_exporter": "python",
   "pygments_lexer": "ipython3",
   "version": "3.9.12"
  }
 },
 "nbformat": 4,
 "nbformat_minor": 5
}
