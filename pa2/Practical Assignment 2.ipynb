{
 "cells": [
  {
   "cell_type": "code",
   "execution_count": 1,
   "id": "ec033314",
   "metadata": {},
   "outputs": [
    {
     "name": "stdout",
     "output_type": "stream",
     "text": [
      "Defaulting to user installation because normal site-packages is not writeable\n",
      "Requirement already satisfied: sklearn in /home/sushii/.local/lib/python3.10/site-packages (0.0)\n",
      "Requirement already satisfied: scikit-learn in /home/sushii/.local/lib/python3.10/site-packages (from sklearn) (1.1.3)\n",
      "Requirement already satisfied: numpy>=1.17.3 in /home/sushii/.local/lib/python3.10/site-packages (from scikit-learn->sklearn) (1.23.3)\n",
      "Requirement already satisfied: threadpoolctl>=2.0.0 in /home/sushii/.local/lib/python3.10/site-packages (from scikit-learn->sklearn) (3.1.0)\n",
      "Requirement already satisfied: scipy>=1.3.2 in /usr/lib64/python3.10/site-packages (from scikit-learn->sklearn) (1.8.1)\n",
      "Requirement already satisfied: joblib>=1.0.0 in /home/sushii/.local/lib/python3.10/site-packages (from scikit-learn->sklearn) (1.2.0)\n"
     ]
    }
   ],
   "source": [
    "import sys\n",
    "!{sys.executable} -m pip install sklearn\n",
    "\n",
    "import numpy as np\n",
    "import matplotlib.pyplot as plt\n",
    "import seaborn as sns\n",
    "\n",
    "from sklearn.datasets import load_files\n",
    "from sklearn.model_selection import train_test_split\n",
    "from sklearn.model_selection import cross_val_score\n",
    "\n",
    "from sklearn.feature_extraction import text\n",
    "from sklearn.feature_extraction.text import CountVectorizer\n",
    "from sklearn.feature_extraction.text import TfidfVectorizer\n",
    "\n",
    "from sklearn.naive_bayes import MultinomialNB\n",
    "from sklearn.linear_model import LogisticRegression\n",
    "from sklearn.tree import DecisionTreeClassifier\n",
    "from sklearn.ensemble import RandomForestClassifier"
   ]
  },
  {
   "cell_type": "code",
   "execution_count": 2,
   "id": "e1c89d4a",
   "metadata": {},
   "outputs": [
    {
     "ename": "IsADirectoryError",
     "evalue": "[Errno 21] Is a directory: 'genuine_vs_fake/genuine/negative_truthful'",
     "output_type": "error",
     "traceback": [
      "\u001b[0;31m---------------------------------------------------------------------------\u001b[0m",
      "\u001b[0;31mIsADirectoryError\u001b[0m                         Traceback (most recent call last)",
      "Cell \u001b[0;32mIn [2], line 7\u001b[0m\n\u001b[1;32m      1\u001b[0m \u001b[38;5;66;03m# Load data from .txt files and make the train-test splits.\u001b[39;00m\n\u001b[1;32m      2\u001b[0m \u001b[38;5;66;03m# Since we're working with text data, we need to vectorize the documents / turn each document\u001b[39;00m\n\u001b[1;32m      3\u001b[0m \u001b[38;5;66;03m# into a point vector in a n-dimentions space. \u001b[39;00m\n\u001b[1;32m      4\u001b[0m \u001b[38;5;66;03m# Moreover, rather than simply using the word counts, we want to use the Term Frequency as feature value.\u001b[39;00m\n\u001b[1;32m      5\u001b[0m \n\u001b[1;32m      6\u001b[0m \u001b[38;5;66;03m# dataset = load_files('./cleaned_op_spam', encoding='latin-1')\u001b[39;00m\n\u001b[0;32m----> 7\u001b[0m dataset \u001b[38;5;241m=\u001b[39m \u001b[43mload_files\u001b[49m\u001b[43m(\u001b[49m\u001b[38;5;124;43m'\u001b[39;49m\u001b[38;5;124;43m./genuine_vs_fake\u001b[39;49m\u001b[38;5;124;43m'\u001b[39;49m\u001b[43m,\u001b[49m\u001b[43m \u001b[49m\u001b[43mencoding\u001b[49m\u001b[38;5;241;43m=\u001b[39;49m\u001b[38;5;124;43m'\u001b[39;49m\u001b[38;5;124;43mutf-8\u001b[39;49m\u001b[38;5;124;43m'\u001b[39;49m\u001b[43m)\u001b[49m\n\u001b[1;32m      8\u001b[0m x_train, x_test, y_train, y_test \u001b[38;5;241m=\u001b[39m train_test_split(dataset\u001b[38;5;241m.\u001b[39mdata, dataset\u001b[38;5;241m.\u001b[39mtarget, test_size\u001b[38;5;241m=\u001b[39m\u001b[38;5;241m0.2\u001b[39m)\n\u001b[1;32m     10\u001b[0m custom_stop_words \u001b[38;5;241m=\u001b[39m text\u001b[38;5;241m.\u001b[39mENGLISH_STOP_WORDS\u001b[38;5;241m.\u001b[39munion([\u001b[38;5;124m\"\u001b[39m\u001b[38;5;130;01m\\n\u001b[39;00m\u001b[38;5;124m\"\u001b[39m])\n",
      "File \u001b[0;32m~/.local/lib/python3.10/site-packages/sklearn/datasets/_base.py:257\u001b[0m, in \u001b[0;36mload_files\u001b[0;34m(container_path, description, categories, load_content, shuffle, encoding, decode_error, random_state, allowed_extensions)\u001b[0m\n\u001b[1;32m    255\u001b[0m data \u001b[38;5;241m=\u001b[39m []\n\u001b[1;32m    256\u001b[0m \u001b[38;5;28;01mfor\u001b[39;00m filename \u001b[38;5;129;01min\u001b[39;00m filenames:\n\u001b[0;32m--> 257\u001b[0m     data\u001b[38;5;241m.\u001b[39mappend(\u001b[43mPath\u001b[49m\u001b[43m(\u001b[49m\u001b[43mfilename\u001b[49m\u001b[43m)\u001b[49m\u001b[38;5;241;43m.\u001b[39;49m\u001b[43mread_bytes\u001b[49m\u001b[43m(\u001b[49m\u001b[43m)\u001b[49m)\n\u001b[1;32m    258\u001b[0m \u001b[38;5;28;01mif\u001b[39;00m encoding \u001b[38;5;129;01mis\u001b[39;00m \u001b[38;5;129;01mnot\u001b[39;00m \u001b[38;5;28;01mNone\u001b[39;00m:\n\u001b[1;32m    259\u001b[0m     data \u001b[38;5;241m=\u001b[39m [d\u001b[38;5;241m.\u001b[39mdecode(encoding, decode_error) \u001b[38;5;28;01mfor\u001b[39;00m d \u001b[38;5;129;01min\u001b[39;00m data]\n",
      "File \u001b[0;32m/usr/lib64/python3.10/pathlib.py:1126\u001b[0m, in \u001b[0;36mPath.read_bytes\u001b[0;34m(self)\u001b[0m\n\u001b[1;32m   1122\u001b[0m \u001b[38;5;28;01mdef\u001b[39;00m \u001b[38;5;21mread_bytes\u001b[39m(\u001b[38;5;28mself\u001b[39m):\n\u001b[1;32m   1123\u001b[0m     \u001b[38;5;124;03m\"\"\"\u001b[39;00m\n\u001b[1;32m   1124\u001b[0m \u001b[38;5;124;03m    Open the file in bytes mode, read it, and close the file.\u001b[39;00m\n\u001b[1;32m   1125\u001b[0m \u001b[38;5;124;03m    \"\"\"\u001b[39;00m\n\u001b[0;32m-> 1126\u001b[0m     \u001b[38;5;28;01mwith\u001b[39;00m \u001b[38;5;28;43mself\u001b[39;49m\u001b[38;5;241;43m.\u001b[39;49m\u001b[43mopen\u001b[49m\u001b[43m(\u001b[49m\u001b[43mmode\u001b[49m\u001b[38;5;241;43m=\u001b[39;49m\u001b[38;5;124;43m'\u001b[39;49m\u001b[38;5;124;43mrb\u001b[39;49m\u001b[38;5;124;43m'\u001b[39;49m\u001b[43m)\u001b[49m \u001b[38;5;28;01mas\u001b[39;00m f:\n\u001b[1;32m   1127\u001b[0m         \u001b[38;5;28;01mreturn\u001b[39;00m f\u001b[38;5;241m.\u001b[39mread()\n",
      "File \u001b[0;32m/usr/lib64/python3.10/pathlib.py:1119\u001b[0m, in \u001b[0;36mPath.open\u001b[0;34m(self, mode, buffering, encoding, errors, newline)\u001b[0m\n\u001b[1;32m   1117\u001b[0m \u001b[38;5;28;01mif\u001b[39;00m \u001b[38;5;124m\"\u001b[39m\u001b[38;5;124mb\u001b[39m\u001b[38;5;124m\"\u001b[39m \u001b[38;5;129;01mnot\u001b[39;00m \u001b[38;5;129;01min\u001b[39;00m mode:\n\u001b[1;32m   1118\u001b[0m     encoding \u001b[38;5;241m=\u001b[39m io\u001b[38;5;241m.\u001b[39mtext_encoding(encoding)\n\u001b[0;32m-> 1119\u001b[0m \u001b[38;5;28;01mreturn\u001b[39;00m \u001b[38;5;28;43mself\u001b[39;49m\u001b[38;5;241;43m.\u001b[39;49m\u001b[43m_accessor\u001b[49m\u001b[38;5;241;43m.\u001b[39;49m\u001b[43mopen\u001b[49m\u001b[43m(\u001b[49m\u001b[38;5;28;43mself\u001b[39;49m\u001b[43m,\u001b[49m\u001b[43m \u001b[49m\u001b[43mmode\u001b[49m\u001b[43m,\u001b[49m\u001b[43m \u001b[49m\u001b[43mbuffering\u001b[49m\u001b[43m,\u001b[49m\u001b[43m \u001b[49m\u001b[43mencoding\u001b[49m\u001b[43m,\u001b[49m\u001b[43m \u001b[49m\u001b[43merrors\u001b[49m\u001b[43m,\u001b[49m\n\u001b[1;32m   1120\u001b[0m \u001b[43m                           \u001b[49m\u001b[43mnewline\u001b[49m\u001b[43m)\u001b[49m\n",
      "\u001b[0;31mIsADirectoryError\u001b[0m: [Errno 21] Is a directory: 'genuine_vs_fake/genuine/negative_truthful'"
     ]
    }
   ],
   "source": [
    "# Load data from .txt files and make the train-test splits.\n",
    "# Since we're working with text data, we need to vectorize the documents / turn each document\n",
    "# into a point vector in a n-dimentions space. \n",
    "# Moreover, rather than simply using the word counts, we want to use the Term Frequency as feature value.\n",
    "\n",
    "# dataset = load_files('./cleaned_op_spam', encoding='latin-1')\n",
    "dataset = load_files('./genuine_vs_fake', encoding='utf-8')\n",
    "x_train, x_test, y_train, y_test = train_test_split(dataset.data, dataset.target, test_size=0.2)\n",
    "\n",
    "custom_stop_words = text.ENGLISH_STOP_WORDS.union([\"\\n\"])\n",
    "# best min df is 4\n",
    "vectorizer = TfidfVectorizer(stop_words=custom_stop_words, min_df=4)\n",
    "x_train_vec = vectorizer.fit_transform(x_train)\n",
    "x_test_vec = vectorizer.transform(x_test)\n",
    "x_train_vec\n",
    "# print(x_trainvec.toarray())\n",
    "print(vectorizer.get_feature_names_out())\n",
    "\n",
    "print('===== Target classes =====')\n",
    "print(dataset.target_names)\n",
    "# print(dataset)"
   ]
  },
  {
   "cell_type": "code",
   "execution_count": null,
   "id": "bfad8ec5",
   "metadata": {},
   "outputs": [],
   "source": [
    "length_features = []\n",
    "for poop in range(1,26):\n",
    "    vectorizer = TfidfVectorizer(stop_words=custom_stop_words, min_df=poop, ngram_range=(1, 1))\n",
    "    all = vectorizer.fit_transform(dataset.data)\n",
    "    length = len(vectorizer.get_feature_names_out())\n",
    "    length_features.append(length)\n",
    "print(length_features)"
   ]
  },
  {
   "cell_type": "code",
   "execution_count": null,
   "id": "f5dfcb7f",
   "metadata": {},
   "outputs": [],
   "source": [
    "custom_params = {'figure.figsize':(12,7)}\n",
    "sns.set_theme(style=\"whitegrid\", rc=custom_params)"
   ]
  },
  {
   "cell_type": "code",
   "execution_count": null,
   "id": "ba51893e",
   "metadata": {},
   "outputs": [],
   "source": [
    "ax = sns.lineplot(y=length_features, x=range(1,26))\n",
    "plt.xlabel(\"Number of absolute occurences\")\n",
    "plt.ylabel(\"Number of features\")\n",
    "plt.title(\"Feature Exclusion (Unigrams, Minimum Occurrence)\")\n",
    "plt.savefig(\"plots/sparse_terms_unigram.eps\")\n",
    "plt.show()"
   ]
  },
  {
   "cell_type": "code",
   "execution_count": null,
   "id": "d7ef8313",
   "metadata": {},
   "outputs": [],
   "source": [
    "length_features = []\n",
    "for poop in range(1,26):\n",
    "    vectorizer = TfidfVectorizer(stop_words=custom_stop_words, min_df=poop, ngram_range=(1,2))\n",
    "    all = vectorizer.fit_transform(dataset.data)\n",
    "    length = len(vectorizer.get_feature_names_out())\n",
    "    length_features.append(length)\n",
    "print(length_features)"
   ]
  },
  {
   "cell_type": "code",
   "execution_count": null,
   "id": "bc71b07b",
   "metadata": {},
   "outputs": [],
   "source": [
    "ax = sns.lineplot(y=length_features, x=range(1,26))\n",
    "plt.xlabel(\"Number of absolute occurences\")\n",
    "plt.ylabel(\"Number of features\")\n",
    "plt.title(\"Feature Exclusion (Unigrams AND Bigrams, Minimum Occurrence)\")\n",
    "plt.savefig(\"plots/sparse_terms_both.eps\")\n",
    "plt.show()"
   ]
  },
  {
   "cell_type": "code",
   "execution_count": null,
   "id": "cd3ea5da",
   "metadata": {},
   "outputs": [],
   "source": [
    "dataset"
   ]
  },
  {
   "cell_type": "code",
   "execution_count": null,
   "id": "3c43a881",
   "metadata": {},
   "outputs": [],
   "source": [
    "# word frequency for ALL corpuses\n",
    "import pandas as pd\n",
    "c_vectorizer = CountVectorizer(stop_words=custom_stop_words)\n",
    "all_words = c_vectorizer.fit_transform(dataset.data)\n",
    "counts = pd.DataFrame(all_words.toarray(), columns=c_vectorizer.get_feature_names_out())\n",
    "sorted_counts = counts.sum().sort_values(ascending=False)\n",
    "print(sorted_counts)"
   ]
  },
  {
   "cell_type": "code",
   "execution_count": null,
   "id": "063ca6e5",
   "metadata": {},
   "outputs": [],
   "source": [
    "import seaborn as sns\n",
    "limit = 16\n",
    "custom_params = {'figure.figsize':(12,7)}\n",
    "sns.set_theme(style=\"whitegrid\", rc=custom_params)\n",
    "ax = sns.barplot(y=sorted_counts.index[:limit], x=sorted_counts.values[:limit])\n",
    "ax.set(xlabel='Word Frequency', ylabel='Words')\n",
    "plt.savefig(\"plots/word_frequency.eps\")\n",
    "plt.show()"
   ]
  },
  {
   "cell_type": "code",
   "execution_count": null,
   "id": "97d9dfbe",
   "metadata": {},
   "outputs": [],
   "source": [
    "# Fit and test the models\n",
    "mnb = MultinomialNB()\n",
    "preds_mnb = mnb.fit(x_train_vec, y_train).predict(x_test_vec)\n",
    "print(\"MNB correct predictions %d out of %d\" % ((y_test == preds_mnb).sum(), x_test_vec.shape[0]))\n",
    "\n",
    "loreg1 = LogisticRegression(solver='lbfgs')\n",
    "preds_logreg1 = loreg1.fit(x_train_vec, y_train).predict(x_test_vec)\n",
    "print(\"LReg-LBFGS correct predictions %d out of %d\" % ((y_test == preds_logreg1).sum(), x_test_vec.shape[0]))\n",
    "\n",
    "logreg2 = LogisticRegression(solver='liblinear')\n",
    "preds_logreg2 = logreg2.fit(x_train_vec, y_train).predict(x_test_vec)\n",
    "print(f\"LReg-Liblinear correct predictions {(y_test == preds_logreg2).sum()} out of {x_test_vec.shape[0]}\")\n",
    "\n",
    "logreg3 = LogisticRegression(solver='saga')\n",
    "preds_logreg3 = logreg3.fit(x_train_vec, y_train).predict(x_test_vec)\n",
    "print(f\"LReg-Saga correct predictions {(y_test == preds_logreg3).sum()} out of {x_test_vec.shape[0]}\")\n",
    "\n",
    "dectree = DecisionTreeClassifier()\n",
    "preds_dectree = dectree.fit(x_train_vec, y_train).predict(x_test_vec)\n",
    "print(f\"Decision Tree correct predictions {(y_test == preds_dectree).sum()} out of {x_test_vec.shape[0]}\")\n",
    "\n",
    "rforest = RandomForestClassifier(n_estimators=10, max_depth=None, min_samples_split=2, random_state=0)\n",
    "preds_rforest = rforest.fit(x_train_vec, y_train).predict(x_test_vec)\n",
    "print(f\"Random Forest correct predictions {(y_test == preds_rforest).sum()} out of {len(y_test)}\")"
   ]
  },
  {
   "cell_type": "code",
   "execution_count": null,
   "id": "819731e0",
   "metadata": {},
   "outputs": [],
   "source": [
    "# Attempt to optimize the Decision Tree using Cost-Complexity Pruning technique\n",
    "path = dectree.cost_complexity_pruning_path(x_train_vec, y_train)\n",
    "ccp_alphas, impurities = path.ccp_alphas, path.impurities\n",
    "# print(ccp_alphas)\n",
    "# print(impurities)\n",
    "\n",
    "dtrees = []\n",
    "for ccp_alpha in ccp_alphas:\n",
    "    dtr = DecisionTreeClassifier(random_state=0, ccp_alpha=ccp_alpha)\n",
    "    dtr.fit(x_train_vec, y_train)\n",
    "    dtrees.append(dtr)\n",
    "# print(f\"Number of nodes in the last tree is: {dectrees[-1].tree_.node_count} with ccp_alpha: {ccp_alphas[-1]}\")\n",
    "\n",
    "train_scores = [dtr.score(x_train_vec, y_train) for dtr in dtrees]\n",
    "test_scores = [dtr.score(x_test_vec, y_test) for dtr in dtrees]\n",
    "\n",
    "fig, ax = plt.subplots()\n",
    "fig.set_size_inches(10.5, 7.5)\n",
    "fig.set_dpi(100)\n",
    "ax.set_xlabel(\"alpha\")\n",
    "ax.set_ylabel(\"accuracy\")\n",
    "ax.set_title(\"Accuracy vs alpha for training and testing sets\")\n",
    "ax.plot(ccp_alphas, train_scores, marker=\"o\", label=\"train\", drawstyle=\"steps-post\")\n",
    "ax.plot(ccp_alphas, test_scores, marker=\"o\", label=\"test\", drawstyle=\"steps-post\")\n",
    "ax.legend()\n",
    "plt.savefig(\"plots/acc_vs_alpha.eps\")\n",
    "plt.show()\n",
    "\n",
    "# CONCLUSION: Accuracy optimizes at alpha 0.01. However, the score remains at ±52% so there is no noticeable \n",
    "# improvement achieved by the cost-complexity pruning, compared to the simple un-pruned tree."
   ]
  },
  {
   "cell_type": "code",
   "execution_count": null,
   "id": "8237801e",
   "metadata": {
    "scrolled": true
   },
   "outputs": [],
   "source": [
    "# fake vs genuine - all probabilities are sorted\n",
    "mnb_prob = mnb.feature_log_prob_[:,:]\n",
    "# print(mnb_prob, mnb_prob.argsort()[::-1])\n",
    "\n",
    "loreg_coef = loreg1.coef_\n",
    "#print(loreg_coef, loreg_coef.argsort()[::-1])\n",
    "\n",
    "# np.set_printoptions(threshold=sys.maxsize)\n",
    "print(\"All Feature Words:\\n\", vectorizer.get_feature_names_out())\n",
    "print(pd.DataFrame(vectorizer.get_feature_names_out()).describe())\n",
    "range = 25\n",
    "\n",
    "# fake_mnb = mnb_prob[0, :].argsort()[::-1]\n",
    "# print(\"\\nImportant Words - Fake MNB:\\n\", np.take(vectorizer.get_feature_names_out(), fake_mnb[:range]))\n",
    "loreg = loreg_coef[0, :].argsort()[::-1]\n",
    "print(\"\\nImportant Words - Logistic Regression:\\n\", np.take(vectorizer.get_feature_names_out(), loreg[:range]))\n",
    "\n",
    "# true_mnb = mnb_prob[1, :].argsort()[::-1]\n",
    "# true_loreg = loreg_coef[1, :].argsort()[::-1]\n",
    "# print(\"\\nImportant Words - True MNB:\\n\", np.take(vectorizer.get_feature_names_out(), true_mnb[:range]))\n",
    "# print(\"\\nImportant Words - True LoReg:\\n\", np.take(vectorizer.get_feature_names_out(), true_loreg[:range]))"
   ]
  },
  {
   "cell_type": "code",
   "execution_count": null,
   "id": "1f8071b5",
   "metadata": {},
   "outputs": [],
   "source": [
    "sorted_idx = rforest.feature_importances_.argsort()[::-1]\n",
    "f_words = np.take(vectorizer.get_feature_names_out(), sorted_idx)\n",
    "print(\"Sorted Forest\", sorted_idx)\n",
    "print(f_words)\n",
    "ax = sns.barplot(y=f_words[:20], x=rforest.feature_importances_[sorted_idx][:20])\n",
    "ax.set_title(\"Ah!\")\n",
    "plt.show()"
   ]
  },
  {
   "cell_type": "code",
   "execution_count": null,
   "id": "9abc09e7",
   "metadata": {},
   "outputs": [],
   "source": [
    "from sklearn.inspection import permutation_importance\n",
    "result = permutation_importance(\n",
    "    dectree, x_test_vec.toarray(), y_test, n_repeats=10, random_state=0, n_jobs=2\n",
    ")\n",
    "fig, ax = plt.subplots()\n",
    "forest_importances.plot.bar(yerr=result.importances_std, ax=ax)\n",
    "ax.set_title(\"Feature importances using permutation on full model\")\n",
    "ax.set_ylabel(\"Mean accuracy decrease\")\n",
    "fig.tight_layout()\n",
    "plt.show()"
   ]
  },
  {
   "cell_type": "code",
   "execution_count": null,
   "id": "cea792ad",
   "metadata": {},
   "outputs": [],
   "source": [
    "from sklearn import tree\n",
    "# plot tree\n",
    "plt.figure(figsize=(30,16))  # set plot size (denoted in inches)\n",
    "tree.plot_tree(dectree, fontsize=6)\n",
    "plt.show()"
   ]
  },
  {
   "cell_type": "code",
   "execution_count": null,
   "id": "0aa9bf4d",
   "metadata": {},
   "outputs": [],
   "source": [
    "def run_cross_validation(nfolds, ngram=1):\n",
    "    tf_vectorizer = TfidfVectorizer(stop_words=custom_stop_words, ngram_range=(1, ngram))\n",
    "    x_train_vec = tf_vectorizer.fit_transform(dataset.data)\n",
    "    y_train_vec = dataset.target\n",
    "\n",
    "    mnbayes = MultinomialNB()\n",
    "    logreg = LogisticRegression(solver='lbfgs')\n",
    "    logreg2 = LogisticRegression(solver='liblinear')\n",
    "    logreg3 = LogisticRegression(solver='saga')\n",
    "    dtree = DecisionTreeClassifier()\n",
    "    ranForest = RandomForestClassifier(n_estimators=10, max_depth=None, min_samples_split=2, random_state=0)\n",
    "    \n",
    "    # Naive Bayes\n",
    "    bayes_acc = cross_val_score(mnbayes, x_train_vec, y_train_vec, cv=nfolds, scoring='accuracy', n_jobs=-1).mean()\n",
    "    bayes_prec = 0 #cross_val_score(mnbayes, x_train_vec, y_train_vec, cv=nfolds, scoring='precision').mean()\n",
    "    bayes_rec = 0 #cross_val_score(mnbayes, x_train_vec, y_train_vec, cv=nfolds, scoring='recall').mean()\n",
    "    \n",
    "    #Logistic regression\n",
    "    lg_acc = cross_val_score(logreg, x_train_vec, y_train_vec, cv=nfolds, scoring='accuracy', n_jobs=-1).mean()\n",
    "    lg_prec = 0 #cross_val_score(logreg, x_train_vec, y_train_vec, cv=nfolds, scoring='precision').mean()\n",
    "    lg_rec = 0 #cross_val_score(logreg, x_train_vec, y_train_vec, cv=nfolds, scoring='recall').mean()\n",
    "    \n",
    "    lg2_acc = cross_val_score(logreg2, x_train_vec, y_train_vec, cv=nfolds, scoring='accuracy', n_jobs=-1).mean()\n",
    "    lg2_prec = 0 #cross_val_score(logreg2, x_train_vec, y_train_vec, cv=nfolds, scoring='precision').mean()\n",
    "    lg2_rec = 0 #cross_val_score(logreg2, x_train_vec, y_train_vec, cv=nfolds, scoring='recall').mean()\n",
    "    \n",
    "    lg3_acc = cross_val_score(logreg3, x_train_vec, y_train_vec, cv=nfolds, scoring='accuracy', n_jobs=-1).mean()\n",
    "    lg3_prec = 0 #cross_val_score(logreg3, x_train_vec, y_train_vec, cv=nfolds, scoring='precision').mean()\n",
    "    lg3_rec = 0 #cross_val_score(logreg3, x_train_vec, y_train_vec, cv=nfolds, scoring='recall').mean()\n",
    "            \n",
    "    dt_acc = cross_val_score(dtree, x_train_vec, y_train_vec, cv=nfolds, scoring='accuracy', n_jobs=-1).mean()\n",
    "    dt_prec = 0 #cross_val_score(dtree, x_train_vec, y_train_vec, cv=nfolds, scoring='precision').mean()\n",
    "    dt_rec = 0 #cross_val_score(dtree, x_train_vec, y_train_vec, cv=nfolds, scoring='recall').mean()\n",
    "    \n",
    "    ranForest_acc = cross_val_score(ranForest, x_train_vec, y_train_vec, cv=nfolds, scoring='accuracy', n_jobs=-1).mean()\n",
    "    ranForest_prec = 0 #cross_val_score(ranForest, x_train_vec, y_train_vec, cv=nfolds, scoring='precision').mean()\n",
    "    ranForest_rec = 0 #cross_val_score(ranForest, x_train_vec, y_train_vec, cv=nfolds, scoring='recall').mean()\n",
    "    \n",
    "    print(f'         Model                         | Accuracy | Precision | Recall')\n",
    "    print(f'Naive Bayes                            | {round(bayes_acc, 3)}    | {round(bayes_prec, 3)}    | {round(bayes_rec, 3)}')\n",
    "    print(f'Logistic Regression - LBFGS solver     | {round(lg_acc, 3)}    | {round(lg_prec, 3)}    | {round(lg_rec, 3)}')\n",
    "    print(f'Logistic Regression - Liblinear solver | {round(lg2_acc, 3)}    | {round(lg2_prec, 3)}    | {round(lg2_rec, 3)}')\n",
    "    print(f'Logistic Regression - Saga solver      | {round(lg3_acc, 3)}    | {round(lg3_prec, 3)}    | {round(lg3_rec, 3)}')\n",
    "    print(f'Decision Tree                          | {round(dt_acc, 3)}    | {round(dt_prec, 3)}    | {round(dt_rec, 3)}')\n",
    "    print(f'Random Forest                          | {round(ranForest_acc, 3)}    | {round(ranForest_prec, 3)}    | {round(ranForest_rec, 3)}')"
   ]
  },
  {
   "cell_type": "code",
   "execution_count": null,
   "id": "112000b4",
   "metadata": {},
   "outputs": [],
   "source": [
    "print('===== UNIGRAM, 5 folds cv =====')\n",
    "run_cross_validation(nfolds=5, ngram=1)\n",
    "print('\\n===== BOTH, 5 folds cv =====')\n",
    "run_cross_validation(nfolds=5, ngram=2)\n"
   ]
  }
 ],
 "metadata": {
  "kernelspec": {
   "display_name": "Python 3 (ipykernel)",
   "language": "python",
   "name": "python3"
  },
  "language_info": {
   "codemirror_mode": {
    "name": "ipython",
    "version": 3
   },
   "file_extension": ".py",
   "mimetype": "text/x-python",
   "name": "python",
   "nbconvert_exporter": "python",
   "pygments_lexer": "ipython3",
   "version": "3.10.7"
  }
 },
 "nbformat": 4,
 "nbformat_minor": 5
}
