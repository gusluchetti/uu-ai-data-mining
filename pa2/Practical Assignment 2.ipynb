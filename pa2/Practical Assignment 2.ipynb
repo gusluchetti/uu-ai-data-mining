{
 "cells": [
  {
   "cell_type": "code",
   "execution_count": 3,
   "id": "cc888241",
   "metadata": {},
   "outputs": [
    {
     "name": "stdout",
     "output_type": "stream",
     "text": [
      "Collecting sklearn\n",
      "  Using cached sklearn-0.0.tar.gz (1.1 kB)\n",
      "Requirement already satisfied: scikit-learn in /Users/aristophanesalbertusalvin/opt/anaconda3/lib/python3.9/site-packages (from sklearn) (1.0.2)\n",
      "Requirement already satisfied: numpy>=1.14.6 in /Users/aristophanesalbertusalvin/opt/anaconda3/lib/python3.9/site-packages (from scikit-learn->sklearn) (1.21.5)\n",
      "Requirement already satisfied: joblib>=0.11 in /Users/aristophanesalbertusalvin/opt/anaconda3/lib/python3.9/site-packages (from scikit-learn->sklearn) (1.1.0)\n",
      "Requirement already satisfied: threadpoolctl>=2.0.0 in /Users/aristophanesalbertusalvin/opt/anaconda3/lib/python3.9/site-packages (from scikit-learn->sklearn) (2.2.0)\n",
      "Requirement already satisfied: scipy>=1.1.0 in /Users/aristophanesalbertusalvin/opt/anaconda3/lib/python3.9/site-packages (from scikit-learn->sklearn) (1.7.3)\n",
      "Building wheels for collected packages: sklearn\n",
      "  Building wheel for sklearn (setup.py) ... \u001b[?25ldone\n",
      "\u001b[?25h  Created wheel for sklearn: filename=sklearn-0.0-py2.py3-none-any.whl size=1310 sha256=0cac82414c4e4a7c3a1b0ece85c109c3fa1d582c1ce442fde1e8a6b8d05bd8d7\n",
      "  Stored in directory: /Users/aristophanesalbertusalvin/Library/Caches/pip/wheels/e4/7b/98/b6466d71b8d738a0c547008b9eb39bf8676d1ff6ca4b22af1c\n",
      "Successfully built sklearn\n",
      "Installing collected packages: sklearn\n",
      "Successfully installed sklearn-0.0\n"
     ]
    }
   ],
   "source": [
    "import sys\n",
    "!{sys.executable} -m pip install sklearn"
   ]
  },
  {
   "cell_type": "code",
   "execution_count": 18,
   "id": "ec033314",
   "metadata": {},
   "outputs": [],
   "source": [
    "from ast import Mult\n",
    "from sklearn.datasets import load_files\n",
    "from sklearn.model_selection import train_test_split\n",
    "from sklearn.model_selection import cross_val_score\n",
    "\n",
    "from sklearn.feature_extraction.text import CountVectorizer\n",
    "from sklearn.feature_extraction.text import TfidfVectorizer\n",
    "\n",
    "from sklearn.naive_bayes import MultinomialNB\n",
    "from sklearn.linear_model import LogisticRegression\n",
    "from sklearn.tree import DecisionTreeClassifier\n",
    "from sklearn.ensemble import RandomForestClassifier"
   ]
  },
  {
   "cell_type": "code",
   "execution_count": 6,
   "id": "e1c89d4a",
   "metadata": {},
   "outputs": [],
   "source": [
    "# Loading the data and making the train-test splits.\n",
    "\n",
    "review_files = load_files('./cleaned_op_spam', encoding='latin-1')\n",
    "x_train, x_test, y_train, y_test = train_test_split(review_files.data, review_files.target, test_size=0.2)\n",
    "# print(review_files)"
   ]
  },
  {
   "cell_type": "code",
   "execution_count": 7,
   "id": "593c8208",
   "metadata": {},
   "outputs": [],
   "source": [
    "# Since we're working with text data, we need to vectorize the documents / turn each document\n",
    "# into a point vector in a n-dimentions space. \n",
    "# Moreover, rather than simply using the word counts, we want to use the Term Frequency as feature value.\n",
    "\n",
    "vectorizer = TfidfVectorizer(stop_words='english')\n",
    "x_trainvec = vectorizer.fit_transform(x_train)\n",
    "x_testvec = vectorizer.transform(x_test)\n",
    "# print(x_trainvec.toarray())\n",
    "# print(vectorizer.get_feature_names_out())"
   ]
  },
  {
   "cell_type": "code",
   "execution_count": 8,
   "id": "97d9dfbe",
   "metadata": {},
   "outputs": [],
   "source": [
    "mnb = MultinomialNB()\n",
    "mnb.fit(x_trainvec, y_train)\n",
    "y_preds = mnb.predict(x_testvec)\n",
    "# print('Length predictions', len(y_preds))\n",
    "# print('Length y_test', len(y_test))"
   ]
  },
  {
   "cell_type": "code",
   "execution_count": 7,
   "id": "819731e0",
   "metadata": {},
   "outputs": [
    {
     "name": "stdout",
     "output_type": "stream",
     "text": [
      "Correct predictions 262 out of 320\n"
     ]
    }
   ],
   "source": [
    "correct_pred = 0\n",
    "for i in range(len(y_test)):\n",
    "    if y_preds[i] == y_test[i]:\n",
    "        correct_pred += 1\n",
    "\n",
    "print(f\"Correct predictions {correct_pred} out of {len(y_test)}\")"
   ]
  },
  {
   "cell_type": "code",
   "execution_count": 25,
   "id": "0aa9bf4d",
   "metadata": {},
   "outputs": [],
   "source": [
    "def run_cross_validation(nfolds, ngram=1):\n",
    "    tf_vectorizer = TfidfVectorizer(stop_words='english', ngram_range=(ngram, ngram))\n",
    "    x_train_vec = tf_vectorizer.fit_transform(review_files.data)\n",
    "    y_train_vec = review_files.target\n",
    "\n",
    "    mnbayes = MultinomialNB()\n",
    "    logreg = LogisticRegression()\n",
    "    dtree = DecisionTreeClassifier()\n",
    "    ranForest = RandomForestClassifier(n_estimators=10, max_depth=None, min_samples_split=2, random_state=0)\n",
    "    \n",
    "    ac_bayes = cross_val_score(mnbayes, x_train_vec, y_train_vec, cv=nfolds, scoring='accuracy').mean()\n",
    "    ac_logreg = cross_val_score(logreg, x_train_vec, y_train_vec, cv=nfolds, scoring='accuracy').mean()\n",
    "    ac_dtree = cross_val_score(dtree, x_train_vec, y_train_vec, cv=nfolds, scoring='accuracy').mean()\n",
    "    ac_ranForest = cross_val_score(ranForest, x_train_vec, y_train_vec, cv=nfolds, scoring='accuracy').mean()\n",
    "    \n",
    "    print('Naive Bayes:', ac_bayes)\n",
    "    print(f'Logistic Regression: { ac_logreg }')\n",
    "    print(f'Decision Tree: { ac_dtree }')\n",
    "    print(f'Random Forest: { ac_ranForest }')"
   ]
  },
  {
   "cell_type": "code",
   "execution_count": 26,
   "id": "112000b4",
   "metadata": {},
   "outputs": [
    {
     "name": "stdout",
     "output_type": "stream",
     "text": [
      "===== BASIC ACCURACIES =====\n",
      "Naive Bayes: 0.79125\n",
      "Logistic Regression: 0.8174999999999999\n",
      "Decision Tree: 0.5075000000000001\n",
      "Random Forest: 0.5931249999999999\n",
      "\n",
      "===== BIGRAM ACCURACIES =====\n",
      "Naive Bayes: 0.630625\n",
      "Logistic Regression: 0.7181250000000001\n",
      "Decision Tree: 0.49375\n",
      "Random Forest: 0.5075\n"
     ]
    }
   ],
   "source": [
    "print('===== BASIC ACCURACIES =====')\n",
    "run_cross_validation(nfolds=5, ngram=1)\n",
    "print('\\n===== BIGRAM ACCURACIES =====')\n",
    "run_cross_validation(nfolds=5, ngram=2)"
   ]
  },
  {
   "cell_type": "code",
   "execution_count": null,
   "id": "c28caf32",
   "metadata": {},
   "outputs": [],
   "source": []
  }
 ],
 "metadata": {
  "kernelspec": {
   "display_name": "Python 3 (ipykernel)",
   "language": "python",
   "name": "python3"
  },
  "language_info": {
   "codemirror_mode": {
    "name": "ipython",
    "version": 3
   },
   "file_extension": ".py",
   "mimetype": "text/x-python",
   "name": "python",
   "nbconvert_exporter": "python",
   "pygments_lexer": "ipython3",
   "version": "3.9.12"
  }
 },
 "nbformat": 4,
 "nbformat_minor": 5
}
